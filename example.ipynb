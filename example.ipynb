{
 "cells": [
  {
   "cell_type": "code",
   "execution_count": 1,
   "metadata": {},
   "outputs": [],
   "source": [
    "from rlnoise.dataset import Dataset\n",
    "from rlnoise.utils import dataset_folder\n",
    "import numpy as np\n",
    "import matplotlib.pyplot as plt"
   ]
  },
  {
   "attachments": {},
   "cell_type": "markdown",
   "metadata": {},
   "source": [
    "Create and save dataset (1st use)"
   ]
  },
  {
   "cell_type": "code",
   "execution_count": 2,
   "metadata": {},
   "outputs": [
    {
     "name": "stdout",
     "output_type": "stream",
     "text": [
      "Creating random cicuits\n",
      "Generating cicuits representation\n",
      "Adding noise\n",
      "Measuring observables\n"
     ]
    },
    {
     "name": "stderr",
     "output_type": "stream",
     "text": [
      "[Qibo 0.1.10.dev0|INFO|2023-02-09 17:13:36]: Using tensorflow backend on /device:CPU:0\n"
     ]
    }
   ],
   "source": [
    "nqubits = 1\n",
    "ngates = 5\n",
    "ncirc = 100\n",
    "\n",
    "# create dataset\n",
    "print(\"Creating random cicuits\")\n",
    "dataset = Dataset(\n",
    "    n_circuits=ncirc,\n",
    "    n_gates=ngates,\n",
    "    n_qubits=nqubits,\n",
    ")\n",
    "print(\"Generating cicuits representation\")\n",
    "circuits_repr=dataset.generate_dataset_representation()\n",
    "print(\"Adding noise\")\n",
    "dataset.add_noise(noise_params=0.07)\n",
    "print(\"Measuring observables\")\n",
    "labels=dataset.generate_labels()\n",
    "\n",
    "np.save(dataset_folder() + '/dataset_1q.npy', circuits_repr)\n",
    "np.save(dataset_folder() + '/labels_1q.npy', labels)\n",
    "print(\"Circuits and labels saved in: \", dataset_folder())"
   ]
  },
  {
   "attachments": {},
   "cell_type": "markdown",
   "metadata": {},
   "source": [
    "Load existing dataset"
   ]
  },
  {
   "cell_type": "code",
   "execution_count": 2,
   "metadata": {},
   "outputs": [
    {
     "name": "stdout",
     "output_type": "stream",
     "text": [
      "Dataset loaded\n",
      "Number of circuits:  100\n"
     ]
    }
   ],
   "source": [
    "circuits_repr = np.load(dataset_folder() + '/dataset_1q.npy')\n",
    "labels = np.load(dataset_folder() + '/labels_1q.npy')\n",
    "\n",
    "print(\"Dataset loaded\")\n",
    "print(\"Number of circuits: \", len(circuits_repr))"
   ]
  },
  {
   "attachments": {},
   "cell_type": "markdown",
   "metadata": {},
   "source": [
    "Visualize circuit representation and observables distributions moments"
   ]
  },
  {
   "cell_type": "code",
   "execution_count": 3,
   "metadata": {},
   "outputs": [
    {
     "name": "stdout",
     "output_type": "stream",
     "text": [
      "Circuit representation:\n",
      "[[0.         0.54156335]\n",
      " [0.         0.37195697]\n",
      " [0.         0.21414577]\n",
      " [1.         0.80536387]\n",
      " [0.         0.53812583]]\n",
      "Observables distribution moments:\n",
      "[[0.328      0.006464  ]\n",
      " [0.2062     0.00944556]\n",
      " [0.199      0.009235  ]]\n"
     ]
    }
   ],
   "source": [
    "element=0\n",
    "\n",
    "print(\"Circuit representation:\")\n",
    "print(circuits_repr[element])\n",
    "print(\"Observables distribution moments:\")\n",
    "print(labels[element])"
   ]
  },
  {
   "attachments": {},
   "cell_type": "markdown",
   "metadata": {},
   "source": [
    "Create RL environment"
   ]
  },
  {
   "cell_type": "code",
   "execution_count": 4,
   "metadata": {},
   "outputs": [],
   "source": [
    "from rlnoise.envs.gym_env import CircuitsGym\n",
    "from rlnoise.utils import truncated_moments_matching\n",
    "\n",
    "env=CircuitsGym(circuits_repr, labels, reward_func=truncated_moments_matching)\n",
    "#env.set_reward_func(truncated_moments_matching)"
   ]
  },
  {
   "attachments": {},
   "cell_type": "markdown",
   "metadata": {},
   "source": [
    "Define ANN"
   ]
  },
  {
   "cell_type": "code",
   "execution_count": 5,
   "metadata": {},
   "outputs": [
    {
     "name": "stderr",
     "output_type": "stream",
     "text": [
      "2023-02-09 17:28:43.424539: W tensorflow/stream_executor/platform/default/dso_loader.cc:64] Could not load dynamic library 'libcudart.so.11.0'; dlerror: libcudart.so.11.0: cannot open shared object file: No such file or directory; LD_LIBRARY_PATH: /home/simonebordoni/anaconda3/envs/qibo/lib/python3.10/site-packages/cv2/../../lib64:\n"
     ]
    },
    {
     "name": "stdout",
     "output_type": "stream",
     "text": [
      "Model: \"model\"\n",
      "__________________________________________________________________________________________________\n",
      " Layer (type)                   Output Shape         Param #     Connected to                     \n",
      "==================================================================================================\n",
      " input_1 (InputLayer)           [(None, 5, 4)]       0           []                               \n",
      "                                                                                                  \n",
      " conv1d (Conv1D)                (None, 5, 8)         40          ['input_1[0][0]']                \n",
      "                                                                                                  \n",
      " conv1d_1 (Conv1D)              (None, 5, 4)         100         ['conv1d[0][0]']                 \n",
      "                                                                                                  \n",
      " flatten (Flatten)              (None, 20)           0           ['conv1d_1[0][0]']               \n",
      "                                                                                                  \n",
      " Actor (Dense)                  (None, 2)            42          ['flatten[0][0]']                \n",
      "                                                                                                  \n",
      " Critic (Dense)                 (None, 1)            21          ['flatten[0][0]']                \n",
      "                                                                                                  \n",
      "==================================================================================================\n",
      "Total params: 203\n",
      "Trainable params: 203\n",
      "Non-trainable params: 0\n",
      "__________________________________________________________________________________________________\n"
     ]
    },
    {
     "name": "stderr",
     "output_type": "stream",
     "text": [
      "2023-02-09 17:28:44.561552: W tensorflow/stream_executor/platform/default/dso_loader.cc:64] Could not load dynamic library 'libcudart.so.11.0'; dlerror: libcudart.so.11.0: cannot open shared object file: No such file or directory; LD_LIBRARY_PATH: /home/simonebordoni/anaconda3/envs/qibo/lib/python3.10/site-packages/cv2/../../lib64:\n",
      "2023-02-09 17:28:44.561593: W tensorflow/stream_executor/platform/default/dso_loader.cc:64] Could not load dynamic library 'libcublas.so.11'; dlerror: libcublas.so.11: cannot open shared object file: No such file or directory; LD_LIBRARY_PATH: /home/simonebordoni/anaconda3/envs/qibo/lib/python3.10/site-packages/cv2/../../lib64:\n",
      "2023-02-09 17:28:44.561620: W tensorflow/stream_executor/platform/default/dso_loader.cc:64] Could not load dynamic library 'libcublasLt.so.11'; dlerror: libcublasLt.so.11: cannot open shared object file: No such file or directory; LD_LIBRARY_PATH: /home/simonebordoni/anaconda3/envs/qibo/lib/python3.10/site-packages/cv2/../../lib64:\n",
      "2023-02-09 17:28:44.561645: W tensorflow/stream_executor/platform/default/dso_loader.cc:64] Could not load dynamic library 'libcufft.so.10'; dlerror: libcufft.so.10: cannot open shared object file: No such file or directory; LD_LIBRARY_PATH: /home/simonebordoni/anaconda3/envs/qibo/lib/python3.10/site-packages/cv2/../../lib64:\n",
      "2023-02-09 17:28:44.561670: W tensorflow/stream_executor/platform/default/dso_loader.cc:64] Could not load dynamic library 'libcurand.so.10'; dlerror: libcurand.so.10: cannot open shared object file: No such file or directory; LD_LIBRARY_PATH: /home/simonebordoni/anaconda3/envs/qibo/lib/python3.10/site-packages/cv2/../../lib64:\n",
      "2023-02-09 17:28:44.561695: W tensorflow/stream_executor/platform/default/dso_loader.cc:64] Could not load dynamic library 'libcusolver.so.11'; dlerror: libcusolver.so.11: cannot open shared object file: No such file or directory; LD_LIBRARY_PATH: /home/simonebordoni/anaconda3/envs/qibo/lib/python3.10/site-packages/cv2/../../lib64:\n",
      "2023-02-09 17:28:44.561723: W tensorflow/stream_executor/platform/default/dso_loader.cc:64] Could not load dynamic library 'libcusparse.so.11'; dlerror: libcusparse.so.11: cannot open shared object file: No such file or directory; LD_LIBRARY_PATH: /home/simonebordoni/anaconda3/envs/qibo/lib/python3.10/site-packages/cv2/../../lib64:\n",
      "2023-02-09 17:28:44.561748: W tensorflow/stream_executor/platform/default/dso_loader.cc:64] Could not load dynamic library 'libcudnn.so.8'; dlerror: libcudnn.so.8: cannot open shared object file: No such file or directory; LD_LIBRARY_PATH: /home/simonebordoni/anaconda3/envs/qibo/lib/python3.10/site-packages/cv2/../../lib64:\n",
      "2023-02-09 17:28:44.561754: W tensorflow/core/common_runtime/gpu/gpu_device.cc:1850] Cannot dlopen some GPU libraries. Please make sure the missing libraries mentioned above are installed properly if you would like to use GPU. Follow the guide at https://www.tensorflow.org/install/gpu for how to download and setup the required libraries for your platform.\n",
      "Skipping registering GPU devices...\n"
     ]
    }
   ],
   "source": [
    "import tensorflow as tf\n",
    "from tensorflow import keras\n",
    "\n",
    "num_inputs = env.observation_space.shape\n",
    "num_actions = env.action_space.n\n",
    "\n",
    "# CNN model\n",
    "inputs = keras.layers.Input(shape=num_inputs)\n",
    "common = keras.layers.Conv1D(8, (1,), activation=\"relu\")(inputs)\n",
    "common = keras.layers.Conv1D(4, (3,), padding='same', activation=\"relu\")(common)\n",
    "common = keras.layers.Flatten()(common)\n",
    "action = keras.layers.Dense(num_actions, activation=\"softmax\", name='Actor')(common)\n",
    "critic = keras.layers.Dense(1, name='Critic')(common)\n",
    "\n",
    "model = keras.Model(inputs=inputs, outputs=[action, critic])\n",
    "model.summary()"
   ]
  },
  {
   "attachments": {},
   "cell_type": "markdown",
   "metadata": {},
   "source": [
    "Define Agent"
   ]
  },
  {
   "cell_type": "code",
   "execution_count": 6,
   "metadata": {},
   "outputs": [
    {
     "name": "stdout",
     "output_type": "stream",
     "text": [
      "Train set elements:  90\n",
      "Validation set elements:  10\n"
     ]
    }
   ],
   "source": [
    "from rlnoise.agents.actor_critic import AC_agent\n",
    "\n",
    "agent=AC_agent(model, env)\n",
    "agent.train_val_split(split=0.1)\n",
    "agent.validation_options(do_validation=True, val_steps=20, greedy_policy=True)"
   ]
  },
  {
   "attachments": {},
   "cell_type": "markdown",
   "metadata": {},
   "source": [
    "Train Agent"
   ]
  },
  {
   "cell_type": "code",
   "execution_count": 7,
   "metadata": {},
   "outputs": [
    {
     "name": "stderr",
     "output_type": "stream",
     "text": [
      "[Qibo 0.1.10.dev0|INFO|2023-02-09 17:29:07]: Using tensorflow backend on /device:CPU:0\n"
     ]
    },
    {
     "name": "stdout",
     "output_type": "stream",
     "text": [
      "episode: 10, avg_reward 0.052331\n",
      "episode: 20, avg_reward 0.046962\n",
      "episode: 20, val_reward 0.056153\n",
      "episode: 30, avg_reward 0.050079\n",
      "episode: 40, avg_reward 0.055014\n",
      "episode: 40, val_reward 0.048426\n",
      "episode: 50, avg_reward 0.052001\n",
      "episode: 60, avg_reward 0.049117\n",
      "episode: 60, val_reward 0.056874\n",
      "episode: 70, avg_reward 0.046438\n",
      "episode: 80, avg_reward 0.052835\n",
      "episode: 80, val_reward 0.055531\n",
      "episode: 90, avg_reward 0.052466\n",
      "episode: 100, avg_reward 0.055413\n",
      "episode: 100, val_reward 0.058460\n"
     ]
    }
   ],
   "source": [
    "optimizer = keras.optimizers.Adam(learning_rate=0.01)\n",
    "episodes=100\n",
    "\n",
    "train_history, val_history = agent.train(episodes=episodes, optimizer=optimizer)"
   ]
  },
  {
   "attachments": {},
   "cell_type": "markdown",
   "metadata": {},
   "source": [
    "Visualize training history"
   ]
  },
  {
   "cell_type": "code",
   "execution_count": 15,
   "metadata": {},
   "outputs": [
    {
     "ename": "AttributeError",
     "evalue": "'list' object has no attribute 'set_xlabel'",
     "output_type": "error",
     "traceback": [
      "\u001b[0;31m---------------------------------------------------------------------------\u001b[0m",
      "\u001b[0;31mAttributeError\u001b[0m                            Traceback (most recent call last)",
      "Cell \u001b[0;32mIn [15], line 2\u001b[0m\n\u001b[1;32m      1\u001b[0m \u001b[39mfrom\u001b[39;00m \u001b[39mrlnoise\u001b[39;00m\u001b[39m.\u001b[39;00m\u001b[39mutils\u001b[39;00m \u001b[39mimport\u001b[39;00m plot_results\n\u001b[0;32m----> 2\u001b[0m plot_results(train_history\u001b[39m=\u001b[39;49mtrain_history, val_history\u001b[39m=\u001b[39;49mval_history, n_steps\u001b[39m=\u001b[39;49m\u001b[39m20\u001b[39;49m)\n",
      "File \u001b[0;32m~/QIBO/rl-noisemodel/src/rlnoise/utils.py:90\u001b[0m, in \u001b[0;36mplot_results\u001b[0;34m(train_history, val_history, n_steps, filename)\u001b[0m\n\u001b[1;32m     88\u001b[0m plot\u001b[39m=\u001b[39mplt\u001b[39m.\u001b[39mplot(train_reward_history, c\u001b[39m=\u001b[39m\u001b[39m'\u001b[39m\u001b[39mred\u001b[39m\u001b[39m'\u001b[39m)\n\u001b[1;32m     89\u001b[0m plot\u001b[39m=\u001b[39mplt\u001b[39m.\u001b[39mplot(val_history, c\u001b[39m=\u001b[39m\u001b[39m'\u001b[39m\u001b[39mblue\u001b[39m\u001b[39m'\u001b[39m)\n\u001b[0;32m---> 90\u001b[0m plt\u001b[39m.\u001b[39mshow()\n\u001b[1;32m     91\u001b[0m plt\u001b[39m.\u001b[39msavefig(figures_folder()\u001b[39m+\u001b[39mfilename)\n",
      "\u001b[0;31mAttributeError\u001b[0m: 'list' object has no attribute 'set_xlabel'"
     ]
    },
    {
     "data": {
      "image/png": "[encoded data removed]",
      "text/plain": [
       "<Figure size 640x480 with 1 Axes>"
      ]
     },
     "metadata": {},
     "output_type": "display_data"
    }
   ],
   "source": [
    "from rlnoise.utils import plot_results\n",
    "plot_results(train_history=train_history, val_history=val_history, n_steps=20)"
   ]
  },
  {
   "cell_type": "code",
   "execution_count": 22,
   "metadata": {},
   "outputs": [
    {
     "name": "stdout",
     "output_type": "stream",
     "text": [
      "{'circuit': 60, 'reward': 0.05579700667984001, 'final_state': array([[0.        , 0.08317755, 0.        , 0.        ],\n",
      "       [1.        , 0.7326649 , 1.        , 0.        ],\n",
      "       [1.        , 0.2620227 , 1.        , 0.        ],\n",
      "       [1.        , 0.10362229, 1.        , 0.        ],\n",
      "       [0.        , 0.7618408 , 0.        , 1.        ]], dtype=float32)}\n"
     ]
    }
   ],
   "source": [
    "print(train_history[94])"
   ]
  }
 ],
 "metadata": {
  "kernelspec": {
   "display_name": "qibo",
   "language": "python",
   "name": "python3"
  },
  "language_info": {
   "codemirror_mode": {
    "name": "ipython",
    "version": 3
   },
   "file_extension": ".py",
   "mimetype": "text/x-python",
   "name": "python",
   "nbconvert_exporter": "python",
   "pygments_lexer": "ipython3",
   "version": "3.10.8"
  },
  "orig_nbformat": 4,
  "vscode": {
   "interpreter": {
    "hash": "679ef9750dab49c7c979211137aa3c42351a069332f89d16af02e811d6f8c96d"
   }
  }
 },
 "nbformat": 4,
 "nbformat_minor": 2
}
