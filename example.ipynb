{
 "cells": [
  {
   "cell_type": "code",
   "execution_count": 1,
   "metadata": {},
   "outputs": [],
   "source": [
    "from rlnoise.dataset import Dataset\n",
    "from rlnoise.utils import dataset_folder\n",
    "import numpy as np\n",
    "import matplotlib.pyplot as plt"
   ]
  },
  {
   "attachments": {},
   "cell_type": "markdown",
   "metadata": {},
   "source": [
    "Create and save dataset (1st use)"
   ]
  },
  {
   "cell_type": "code",
   "execution_count": 2,
   "metadata": {},
   "outputs": [
    {
     "name": "stdout",
     "output_type": "stream",
     "text": [
      "Creating random cicuits\n",
      "Generating cicuits representation\n",
      "Adding noise\n",
      "Measuring observables\n"
     ]
    },
    {
     "name": "stderr",
     "output_type": "stream",
     "text": [
      "[Qibo 0.1.10.dev0|INFO|2023-02-10 16:06:58]: Using tensorflow backend on /device:CPU:0\n"
     ]
    },
    {
     "ename": "KeyboardInterrupt",
     "evalue": "",
     "output_type": "error",
     "traceback": [
      "\u001b[0;31m---------------------------------------------------------------------------\u001b[0m",
      "\u001b[0;31mKeyboardInterrupt\u001b[0m                         Traceback (most recent call last)",
      "Cell \u001b[0;32mIn [2], line 17\u001b[0m\n\u001b[1;32m     15\u001b[0m dataset\u001b[39m.\u001b[39madd_noise(noise_params\u001b[39m=\u001b[39m\u001b[39m0.07\u001b[39m)\n\u001b[1;32m     16\u001b[0m \u001b[39mprint\u001b[39m(\u001b[39m\"\u001b[39m\u001b[39mMeasuring observables\u001b[39m\u001b[39m\"\u001b[39m)\n\u001b[0;32m---> 17\u001b[0m labels\u001b[39m=\u001b[39mdataset\u001b[39m.\u001b[39;49mgenerate_labels()\n\u001b[1;32m     19\u001b[0m np\u001b[39m.\u001b[39msave(dataset_folder() \u001b[39m+\u001b[39m \u001b[39m'\u001b[39m\u001b[39m/dataset_1q.npy\u001b[39m\u001b[39m'\u001b[39m, circuits_repr)\n\u001b[1;32m     20\u001b[0m np\u001b[39m.\u001b[39msave(dataset_folder() \u001b[39m+\u001b[39m \u001b[39m'\u001b[39m\u001b[39m/labels_1q.npy\u001b[39m\u001b[39m'\u001b[39m, labels)\n",
      "File \u001b[0;32m~/QIBO/rl-noisemodel/src/rlnoise/dataset.py:81\u001b[0m, in \u001b[0;36mDataset.generate_labels\u001b[0;34m(self, n_shots, n_rounds)\u001b[0m\n\u001b[1;32m     79\u001b[0m n_obs\u001b[39m=\u001b[39m\u001b[39m0\u001b[39m\n\u001b[1;32m     80\u001b[0m \u001b[39mfor\u001b[39;00m obs \u001b[39min\u001b[39;00m [\u001b[39m'\u001b[39m\u001b[39mZ\u001b[39m\u001b[39m'\u001b[39m, \u001b[39m'\u001b[39m\u001b[39mY\u001b[39m\u001b[39m'\u001b[39m, \u001b[39m'\u001b[39m\u001b[39mX\u001b[39m\u001b[39m'\u001b[39m]:\n\u001b[0;32m---> 81\u001b[0m     register\u001b[39m=\u001b[39m\u001b[39mself\u001b[39;49m\u001b[39m.\u001b[39;49mpauli_probabilities(observable\u001b[39m=\u001b[39;49mobs, n_shots\u001b[39m=\u001b[39;49mn_shots, n_rounds\u001b[39m=\u001b[39;49mn_rounds)\n\u001b[1;32m     82\u001b[0m     moments[:,n_obs,\u001b[39m0\u001b[39m]\u001b[39m=\u001b[39mnp\u001b[39m.\u001b[39mmean(register, axis\u001b[39m=\u001b[39m\u001b[39m1\u001b[39m)\n\u001b[1;32m     83\u001b[0m     moments[:,n_obs,\u001b[39m1\u001b[39m]\u001b[39m=\u001b[39mnp\u001b[39m.\u001b[39mvar(register, axis\u001b[39m=\u001b[39m\u001b[39m1\u001b[39m)\n",
      "File \u001b[0;32m~/QIBO/rl-noisemodel/src/rlnoise/dataset.py:64\u001b[0m, in \u001b[0;36mDataset.pauli_probabilities\u001b[0;34m(self, observable, n_shots, n_rounds)\u001b[0m\n\u001b[1;32m     62\u001b[0m register\u001b[39m=\u001b[39mnp\u001b[39m.\u001b[39mndarray((\u001b[39mlen\u001b[39m(\u001b[39mself\u001b[39m\u001b[39m.\u001b[39mcircuits), n_rounds), dtype\u001b[39m=\u001b[39m\u001b[39mfloat\u001b[39m)\n\u001b[1;32m     63\u001b[0m \u001b[39mfor\u001b[39;00m i \u001b[39min\u001b[39;00m \u001b[39mrange\u001b[39m(n_rounds):\n\u001b[0;32m---> 64\u001b[0m     probs\u001b[39m=\u001b[39m\u001b[39mself\u001b[39;49m\u001b[39m.\u001b[39;49mcompute_shots(circuits, n_shots\u001b[39m=\u001b[39;49mn_shots, probabilities\u001b[39m=\u001b[39;49m\u001b[39mTrue\u001b[39;49;00m)\n\u001b[1;32m     65\u001b[0m     register[:,i]\u001b[39m=\u001b[39mprobs[:,\u001b[39m0\u001b[39m]\u001b[39m-\u001b[39mprobs[:,\u001b[39m1\u001b[39m]\n\u001b[1;32m     66\u001b[0m \u001b[39mreturn\u001b[39;00m register\n",
      "File \u001b[0;32m~/QIBO/rl-noisemodel/src/rlnoise/dataset.py:115\u001b[0m, in \u001b[0;36mDataset.compute_shots\u001b[0;34m(self, circuits, n_shots, probabilities)\u001b[0m\n\u001b[1;32m    103\u001b[0m \u001b[39mdef\u001b[39;00m \u001b[39mcompute_shots\u001b[39m(\u001b[39mself\u001b[39m, circuits, n_shots\u001b[39m=\u001b[39m\u001b[39m1024\u001b[39m, probabilities\u001b[39m=\u001b[39m\u001b[39mFalse\u001b[39;00m):\n\u001b[1;32m    104\u001b[0m     \u001b[39m'''Computes shots of circuits dataset\u001b[39;00m\n\u001b[1;32m    105\u001b[0m \n\u001b[1;32m    106\u001b[0m \u001b[39m    Args:\u001b[39;00m\n\u001b[0;32m   (...)\u001b[0m\n\u001b[1;32m    112\u001b[0m \u001b[39m        shots_regiter (numpy.ndarray): number of shot counts/probabilities for each circuit in computational basis (order: 000; 001; 010 ...)\u001b[39;00m\n\u001b[1;32m    113\u001b[0m \u001b[39m    '''\u001b[39;00m\n\u001b[0;32m--> 115\u001b[0m     shots_register_raw \u001b[39m=\u001b[39m [   \n\u001b[1;32m    116\u001b[0m         circuits[i](nshots\u001b[39m=\u001b[39mn_shots)\u001b[39m.\u001b[39mfrequencies(binary\u001b[39m=\u001b[39m\u001b[39mFalse\u001b[39;00m)\n\u001b[1;32m    117\u001b[0m         \u001b[39mfor\u001b[39;00m i \u001b[39min\u001b[39;00m \u001b[39mrange\u001b[39m(\u001b[39mlen\u001b[39m(\u001b[39mself\u001b[39m\u001b[39m.\u001b[39mcircuits))\n\u001b[1;32m    118\u001b[0m     ]\n\u001b[1;32m    119\u001b[0m     shots_register\u001b[39m=\u001b[39m[]\n\u001b[1;32m    120\u001b[0m     \u001b[39mfor\u001b[39;00m i \u001b[39min\u001b[39;00m \u001b[39mrange\u001b[39m(\u001b[39mlen\u001b[39m(\u001b[39mself\u001b[39m\u001b[39m.\u001b[39mcircuits)):\n",
      "File \u001b[0;32m~/QIBO/rl-noisemodel/src/rlnoise/dataset.py:116\u001b[0m, in \u001b[0;36m<listcomp>\u001b[0;34m(.0)\u001b[0m\n\u001b[1;32m    103\u001b[0m \u001b[39mdef\u001b[39;00m \u001b[39mcompute_shots\u001b[39m(\u001b[39mself\u001b[39m, circuits, n_shots\u001b[39m=\u001b[39m\u001b[39m1024\u001b[39m, probabilities\u001b[39m=\u001b[39m\u001b[39mFalse\u001b[39;00m):\n\u001b[1;32m    104\u001b[0m     \u001b[39m'''Computes shots of circuits dataset\u001b[39;00m\n\u001b[1;32m    105\u001b[0m \n\u001b[1;32m    106\u001b[0m \u001b[39m    Args:\u001b[39;00m\n\u001b[0;32m   (...)\u001b[0m\n\u001b[1;32m    112\u001b[0m \u001b[39m        shots_regiter (numpy.ndarray): number of shot counts/probabilities for each circuit in computational basis (order: 000; 001; 010 ...)\u001b[39;00m\n\u001b[1;32m    113\u001b[0m \u001b[39m    '''\u001b[39;00m\n\u001b[1;32m    115\u001b[0m     shots_register_raw \u001b[39m=\u001b[39m [   \n\u001b[0;32m--> 116\u001b[0m         circuits[i](nshots\u001b[39m=\u001b[39;49mn_shots)\u001b[39m.\u001b[39mfrequencies(binary\u001b[39m=\u001b[39m\u001b[39mFalse\u001b[39;00m)\n\u001b[1;32m    117\u001b[0m         \u001b[39mfor\u001b[39;00m i \u001b[39min\u001b[39;00m \u001b[39mrange\u001b[39m(\u001b[39mlen\u001b[39m(\u001b[39mself\u001b[39m\u001b[39m.\u001b[39mcircuits))\n\u001b[1;32m    118\u001b[0m     ]\n\u001b[1;32m    119\u001b[0m     shots_register\u001b[39m=\u001b[39m[]\n\u001b[1;32m    120\u001b[0m     \u001b[39mfor\u001b[39;00m i \u001b[39min\u001b[39;00m \u001b[39mrange\u001b[39m(\u001b[39mlen\u001b[39m(\u001b[39mself\u001b[39m\u001b[39m.\u001b[39mcircuits)):\n",
      "File \u001b[0;32m~/QIBO/qibo/src/qibo/models/circuit.py:977\u001b[0m, in \u001b[0;36mCircuit.__call__\u001b[0;34m(self, initial_state, nshots)\u001b[0m\n\u001b[1;32m    975\u001b[0m \u001b[39mdef\u001b[39;00m \u001b[39m__call__\u001b[39m(\u001b[39mself\u001b[39m, initial_state\u001b[39m=\u001b[39m\u001b[39mNone\u001b[39;00m, nshots\u001b[39m=\u001b[39m\u001b[39mNone\u001b[39;00m):\n\u001b[1;32m    976\u001b[0m     \u001b[39m\"\"\"Equivalent to ``circuit.execute``.\"\"\"\u001b[39;00m\n\u001b[0;32m--> 977\u001b[0m     \u001b[39mreturn\u001b[39;00m \u001b[39mself\u001b[39;49m\u001b[39m.\u001b[39;49mexecute(initial_state\u001b[39m=\u001b[39;49minitial_state, nshots\u001b[39m=\u001b[39;49mnshots)\n",
      "File \u001b[0;32m~/QIBO/qibo/src/qibo/models/circuit.py:973\u001b[0m, in \u001b[0;36mCircuit.execute\u001b[0;34m(self, initial_state, nshots)\u001b[0m\n\u001b[1;32m    969\u001b[0m     \u001b[39mreturn\u001b[39;00m GlobalBackend()\u001b[39m.\u001b[39mexecute_distributed_circuit(\n\u001b[1;32m    970\u001b[0m         \u001b[39mself\u001b[39m, initial_state, nshots\n\u001b[1;32m    971\u001b[0m     )\n\u001b[1;32m    972\u001b[0m \u001b[39melse\u001b[39;00m:\n\u001b[0;32m--> 973\u001b[0m     \u001b[39mreturn\u001b[39;00m GlobalBackend()\u001b[39m.\u001b[39;49mexecute_circuit(\u001b[39mself\u001b[39;49m, initial_state, nshots)\n",
      "File \u001b[0;32m~/QIBO/qibo/src/qibo/backends/tensorflow.py:261\u001b[0m, in \u001b[0;36mTensorflowBackend.execute_circuit\u001b[0;34m(self, circuit, initial_state, nshots, return_array)\u001b[0m\n\u001b[1;32m    257\u001b[0m \u001b[39mdef\u001b[39;00m \u001b[39mexecute_circuit\u001b[39m(\n\u001b[1;32m    258\u001b[0m     \u001b[39mself\u001b[39m, circuit, initial_state\u001b[39m=\u001b[39m\u001b[39mNone\u001b[39;00m, nshots\u001b[39m=\u001b[39m\u001b[39mNone\u001b[39;00m, return_array\u001b[39m=\u001b[39m\u001b[39mFalse\u001b[39;00m\n\u001b[1;32m    259\u001b[0m ):\n\u001b[1;32m    260\u001b[0m     \u001b[39mwith\u001b[39;00m \u001b[39mself\u001b[39m\u001b[39m.\u001b[39mtf\u001b[39m.\u001b[39mdevice(\u001b[39mself\u001b[39m\u001b[39m.\u001b[39mdevice):\n\u001b[0;32m--> 261\u001b[0m         \u001b[39mreturn\u001b[39;00m \u001b[39msuper\u001b[39;49m()\u001b[39m.\u001b[39;49mexecute_circuit(circuit, initial_state, nshots, return_array)\n",
      "File \u001b[0;32m~/QIBO/qibo/src/qibo/backends/numpy.py:355\u001b[0m, in \u001b[0;36mNumpyBackend.execute_circuit\u001b[0;34m(self, circuit, initial_state, nshots, return_array)\u001b[0m\n\u001b[1;32m    352\u001b[0m         state \u001b[39m=\u001b[39m \u001b[39mself\u001b[39m\u001b[39m.\u001b[39mcast(initial_state)\n\u001b[1;32m    354\u001b[0m     \u001b[39mfor\u001b[39;00m gate \u001b[39min\u001b[39;00m circuit\u001b[39m.\u001b[39mqueue:\n\u001b[0;32m--> 355\u001b[0m         state \u001b[39m=\u001b[39m gate\u001b[39m.\u001b[39;49mapply_density_matrix(\u001b[39mself\u001b[39;49m, state, nqubits)\n\u001b[1;32m    357\u001b[0m \u001b[39melse\u001b[39;00m:\n\u001b[1;32m    358\u001b[0m     \u001b[39mif\u001b[39;00m initial_state \u001b[39mis\u001b[39;00m \u001b[39mNone\u001b[39;00m:\n",
      "File \u001b[0;32m~/QIBO/qibo/src/qibo/gates/abstract.py:271\u001b[0m, in \u001b[0;36mGate.apply_density_matrix\u001b[0;34m(self, backend, state, nqubits)\u001b[0m\n\u001b[1;32m    270\u001b[0m \u001b[39mdef\u001b[39;00m \u001b[39mapply_density_matrix\u001b[39m(\u001b[39mself\u001b[39m, backend, state, nqubits):\n\u001b[0;32m--> 271\u001b[0m     \u001b[39mreturn\u001b[39;00m backend\u001b[39m.\u001b[39;49mapply_gate_density_matrix(\u001b[39mself\u001b[39;49m, state, nqubits)\n",
      "File \u001b[0;32m~/QIBO/qibo/src/qibo/backends/numpy.py:187\u001b[0m, in \u001b[0;36mNumpyBackend.apply_gate_density_matrix\u001b[0;34m(self, gate, state, nqubits)\u001b[0m\n\u001b[1;32m    185\u001b[0m state \u001b[39m=\u001b[39m \u001b[39mself\u001b[39m\u001b[39m.\u001b[39mcast(state)\n\u001b[1;32m    186\u001b[0m state \u001b[39m=\u001b[39m \u001b[39mself\u001b[39m\u001b[39m.\u001b[39mnp\u001b[39m.\u001b[39mreshape(state, \u001b[39m2\u001b[39m \u001b[39m*\u001b[39m nqubits \u001b[39m*\u001b[39m (\u001b[39m2\u001b[39m,))\n\u001b[0;32m--> 187\u001b[0m matrix \u001b[39m=\u001b[39m gate\u001b[39m.\u001b[39;49masmatrix(\u001b[39mself\u001b[39;49m)\n\u001b[1;32m    188\u001b[0m \u001b[39mif\u001b[39;00m gate\u001b[39m.\u001b[39mis_controlled_by:\n\u001b[1;32m    189\u001b[0m     matrix \u001b[39m=\u001b[39m \u001b[39mself\u001b[39m\u001b[39m.\u001b[39mnp\u001b[39m.\u001b[39mreshape(matrix, \u001b[39m2\u001b[39m \u001b[39m*\u001b[39m \u001b[39mlen\u001b[39m(gate\u001b[39m.\u001b[39mtarget_qubits) \u001b[39m*\u001b[39m (\u001b[39m2\u001b[39m,))\n",
      "File \u001b[0;32m~/QIBO/qibo/src/qibo/gates/abstract.py:356\u001b[0m, in \u001b[0;36mParametrizedGate.asmatrix\u001b[0;34m(self, backend)\u001b[0m\n\u001b[1;32m    355\u001b[0m \u001b[39mdef\u001b[39;00m \u001b[39masmatrix\u001b[39m(\u001b[39mself\u001b[39m, backend):\n\u001b[0;32m--> 356\u001b[0m     \u001b[39mreturn\u001b[39;00m backend\u001b[39m.\u001b[39;49masmatrix_parametrized(\u001b[39mself\u001b[39;49m)\n",
      "File \u001b[0;32m~/QIBO/qibo/src/qibo/backends/tensorflow.py:250\u001b[0m, in \u001b[0;36mTensorflowBackend.asmatrix_parametrized\u001b[0;34m(self, gate)\u001b[0m\n\u001b[1;32m    249\u001b[0m \u001b[39mdef\u001b[39;00m \u001b[39masmatrix_parametrized\u001b[39m(\u001b[39mself\u001b[39m, gate):\n\u001b[0;32m--> 250\u001b[0m     npmatrix \u001b[39m=\u001b[39m \u001b[39msuper\u001b[39;49m()\u001b[39m.\u001b[39;49masmatrix_parametrized(gate)\n\u001b[1;32m    251\u001b[0m     \u001b[39mreturn\u001b[39;00m \u001b[39mself\u001b[39m\u001b[39m.\u001b[39mtf\u001b[39m.\u001b[39mcast(npmatrix, dtype\u001b[39m=\u001b[39m\u001b[39mself\u001b[39m\u001b[39m.\u001b[39mdtype)\n",
      "File \u001b[0;32m~/QIBO/qibo/src/qibo/backends/numpy.py:108\u001b[0m, in \u001b[0;36mNumpyBackend.asmatrix_parametrized\u001b[0;34m(self, gate)\u001b[0m\n\u001b[1;32m    106\u001b[0m \u001b[39m\"\"\"Convert a parametrized gate to its matrix representation in the computational basis.\"\"\"\u001b[39;00m\n\u001b[1;32m    107\u001b[0m name \u001b[39m=\u001b[39m gate\u001b[39m.\u001b[39m\u001b[39m__class__\u001b[39m\u001b[39m.\u001b[39m\u001b[39m__name__\u001b[39m\n\u001b[0;32m--> 108\u001b[0m \u001b[39mreturn\u001b[39;00m \u001b[39mgetattr\u001b[39;49m(\u001b[39mself\u001b[39;49m\u001b[39m.\u001b[39;49mmatrices, name)(\u001b[39m*\u001b[39;49mgate\u001b[39m.\u001b[39;49mparameters)\n",
      "File \u001b[0;32m~/QIBO/qibo/src/qibo/backends/tensorflow.py:25\u001b[0m, in \u001b[0;36mTensorflowMatrices.RX\u001b[0;34m(self, theta)\u001b[0m\n\u001b[1;32m     23\u001b[0m \u001b[39mdef\u001b[39;00m \u001b[39mRX\u001b[39m(\u001b[39mself\u001b[39m, theta):\n\u001b[1;32m     24\u001b[0m     cos \u001b[39m=\u001b[39m \u001b[39mself\u001b[39m\u001b[39m.\u001b[39mnp\u001b[39m.\u001b[39mcos(theta \u001b[39m/\u001b[39m \u001b[39m2.0\u001b[39m) \u001b[39m+\u001b[39m \u001b[39m0\u001b[39mj\n\u001b[0;32m---> 25\u001b[0m     isin \u001b[39m=\u001b[39m \u001b[39m-\u001b[39m\u001b[39m1\u001b[39mj \u001b[39m*\u001b[39m \u001b[39mself\u001b[39;49m\u001b[39m.\u001b[39;49mnp\u001b[39m.\u001b[39;49msin(theta \u001b[39m/\u001b[39;49m \u001b[39m2.0\u001b[39;49m)\n\u001b[1;32m     26\u001b[0m     \u001b[39mreturn\u001b[39;00m \u001b[39mself\u001b[39m\u001b[39m.\u001b[39mtf\u001b[39m.\u001b[39mcast([[cos, isin], [isin, cos]], dtype\u001b[39m=\u001b[39m\u001b[39mself\u001b[39m\u001b[39m.\u001b[39mdtype)\n",
      "File \u001b[0;32m~/anaconda3/envs/qibo/lib/python3.10/site-packages/tensorflow/python/ops/numpy_ops/np_math_ops.py:668\u001b[0m, in \u001b[0;36msin\u001b[0;34m(x)\u001b[0m\n\u001b[1;32m    666\u001b[0m \u001b[39m@np_utils\u001b[39m\u001b[39m.\u001b[39mnp_doc(\u001b[39m'\u001b[39m\u001b[39msin\u001b[39m\u001b[39m'\u001b[39m)\n\u001b[1;32m    667\u001b[0m \u001b[39mdef\u001b[39;00m \u001b[39msin\u001b[39m(x):\n\u001b[0;32m--> 668\u001b[0m   \u001b[39mreturn\u001b[39;00m _scalar(math_ops\u001b[39m.\u001b[39;49msin, x, \u001b[39mTrue\u001b[39;49;00m)\n",
      "File \u001b[0;32m~/anaconda3/envs/qibo/lib/python3.10/site-packages/tensorflow/python/ops/numpy_ops/np_math_ops.py:597\u001b[0m, in \u001b[0;36m_scalar\u001b[0;34m(tf_fn, x, promote_to_float)\u001b[0m\n\u001b[1;32m    595\u001b[0m \u001b[39mif\u001b[39;00m promote_to_float \u001b[39mand\u001b[39;00m \u001b[39mnot\u001b[39;00m np\u001b[39m.\u001b[39missubdtype(x\u001b[39m.\u001b[39mdtype\u001b[39m.\u001b[39mas_numpy_dtype, np\u001b[39m.\u001b[39minexact):\n\u001b[1;32m    596\u001b[0m   x \u001b[39m=\u001b[39m x\u001b[39m.\u001b[39mastype(np_dtypes\u001b[39m.\u001b[39mdefault_float_type())\n\u001b[0;32m--> 597\u001b[0m \u001b[39mreturn\u001b[39;00m tf_fn(x)\n",
      "File \u001b[0;32m~/anaconda3/envs/qibo/lib/python3.10/site-packages/tensorflow/python/ops/gen_math_ops.py:9608\u001b[0m, in \u001b[0;36msin\u001b[0;34m(x, name)\u001b[0m\n\u001b[1;32m   9606\u001b[0m \u001b[39mif\u001b[39;00m tld\u001b[39m.\u001b[39mis_eager:\n\u001b[1;32m   9607\u001b[0m   \u001b[39mtry\u001b[39;00m:\n\u001b[0;32m-> 9608\u001b[0m     _result \u001b[39m=\u001b[39m pywrap_tfe\u001b[39m.\u001b[39;49mTFE_Py_FastPathExecute(\n\u001b[1;32m   9609\u001b[0m       _ctx, \u001b[39m\"\u001b[39;49m\u001b[39mSin\u001b[39;49m\u001b[39m\"\u001b[39;49m, name, x)\n\u001b[1;32m   9610\u001b[0m     \u001b[39mreturn\u001b[39;00m _result\n\u001b[1;32m   9611\u001b[0m   \u001b[39mexcept\u001b[39;00m _core\u001b[39m.\u001b[39m_NotOkStatusException \u001b[39mas\u001b[39;00m e:\n",
      "\u001b[0;31mKeyboardInterrupt\u001b[0m: "
     ]
    }
   ],
   "source": [
    "nqubits = 1\n",
    "ngates = 5\n",
    "ncirc = 100\n",
    "\n",
    "# create dataset\n",
    "print(\"Creating random cicuits\")\n",
    "dataset = Dataset(\n",
    "    n_circuits=ncirc,\n",
    "    n_gates=ngates,\n",
    "    n_qubits=nqubits,\n",
    ")\n",
    "print(\"Generating cicuits representation\")\n",
    "circuits_repr=dataset.generate_dataset_representation()\n",
    "print(\"Adding noise\")\n",
    "dataset.add_noise(noise_params=0.07)\n",
    "print(\"Measuring observables\")\n",
    "labels=dataset.generate_labels()\n",
    "\n",
    "np.save(dataset_folder() + '/dataset_1q.npy', circuits_repr)\n",
    "np.save(dataset_folder() + '/labels_1q.npy', labels)\n",
    "print(\"Circuits and labels saved in: \", dataset_folder())"
   ]
  },
  {
   "attachments": {},
   "cell_type": "markdown",
   "metadata": {},
   "source": [
    "Load existing dataset"
   ]
  },
  {
   "cell_type": "code",
   "execution_count": 3,
   "metadata": {},
   "outputs": [
    {
     "name": "stdout",
     "output_type": "stream",
     "text": [
      "Dataset loaded\n",
      "Number of circuits:  100\n"
     ]
    }
   ],
   "source": [
    "circuits_repr = np.load(dataset_folder() + '/dataset_1q.npy')\n",
    "labels = np.load(dataset_folder() + '/labels_1q.npy')\n",
    "\n",
    "print(\"Dataset loaded\")\n",
    "print(\"Number of circuits: \", len(circuits_repr))"
   ]
  },
  {
   "attachments": {},
   "cell_type": "markdown",
   "metadata": {},
   "source": [
    "Visualize circuit representation and observables distributions moments"
   ]
  },
  {
   "cell_type": "code",
   "execution_count": null,
   "metadata": {},
   "outputs": [
    {
     "name": "stdout",
     "output_type": "stream",
     "text": [
      "Circuit representation:\n",
      "[[0.         0.54156335]\n",
      " [0.         0.37195697]\n",
      " [0.         0.21414577]\n",
      " [1.         0.80536387]\n",
      " [0.         0.53812583]]\n",
      "Observables distribution moments:\n",
      "[[0.328      0.006464  ]\n",
      " [0.2062     0.00944556]\n",
      " [0.199      0.009235  ]]\n"
     ]
    }
   ],
   "source": [
    "element=0\n",
    "\n",
    "print(\"Circuit representation:\")\n",
    "print(circuits_repr[element])\n",
    "print(\"Observables distribution moments:\")\n",
    "print(labels[element])"
   ]
  },
  {
   "attachments": {},
   "cell_type": "markdown",
   "metadata": {},
   "source": [
    "Create RL environment"
   ]
  },
  {
   "cell_type": "code",
   "execution_count": 4,
   "metadata": {},
   "outputs": [],
   "source": [
    "from rlnoise.envs.gym_env import CircuitsGym\n",
    "from rlnoise.utils import truncated_moments_matching\n",
    "\n",
    "env=CircuitsGym(circuits_repr, labels, reward_func=truncated_moments_matching)\n",
    "#env.set_reward_func(truncated_moments_matching)"
   ]
  },
  {
   "attachments": {},
   "cell_type": "markdown",
   "metadata": {},
   "source": [
    "Define ANN"
   ]
  },
  {
   "cell_type": "code",
   "execution_count": 5,
   "metadata": {},
   "outputs": [
    {
     "name": "stdout",
     "output_type": "stream",
     "text": [
      "Model: \"model\"\n",
      "__________________________________________________________________________________________________\n",
      " Layer (type)                   Output Shape         Param #     Connected to                     \n",
      "==================================================================================================\n",
      " input_1 (InputLayer)           [(None, 5, 4)]       0           []                               \n",
      "                                                                                                  \n",
      " conv1d (Conv1D)                (None, 5, 8)         40          ['input_1[0][0]']                \n",
      "                                                                                                  \n",
      " conv1d_1 (Conv1D)              (None, 5, 4)         100         ['conv1d[0][0]']                 \n",
      "                                                                                                  \n",
      " flatten (Flatten)              (None, 20)           0           ['conv1d_1[0][0]']               \n",
      "                                                                                                  \n",
      " Actor (Dense)                  (None, 2)            42          ['flatten[0][0]']                \n",
      "                                                                                                  \n",
      " Critic (Dense)                 (None, 1)            21          ['flatten[0][0]']                \n",
      "                                                                                                  \n",
      "==================================================================================================\n",
      "Total params: 203\n",
      "Trainable params: 203\n",
      "Non-trainable params: 0\n",
      "__________________________________________________________________________________________________\n"
     ]
    }
   ],
   "source": [
    "import tensorflow as tf\n",
    "from tensorflow import keras\n",
    "\n",
    "num_inputs = env.observation_space.shape\n",
    "num_actions = env.action_space.n\n",
    "\n",
    "# CNN model\n",
    "inputs = keras.layers.Input(shape=num_inputs)\n",
    "common = keras.layers.Conv1D(8, (1,), activation=\"relu\")(inputs)\n",
    "common = keras.layers.Conv1D(4, (3,), padding='same', activation=\"relu\")(common)\n",
    "common = keras.layers.Flatten()(common)\n",
    "action = keras.layers.Dense(num_actions, activation=\"softmax\", name='Actor')(common)\n",
    "critic = keras.layers.Dense(1, name='Critic')(common)\n",
    "\n",
    "model = keras.Model(inputs=inputs, outputs=[action, critic])\n",
    "model.summary()"
   ]
  },
  {
   "attachments": {},
   "cell_type": "markdown",
   "metadata": {},
   "source": [
    "Define Agent"
   ]
  },
  {
   "cell_type": "code",
   "execution_count": 6,
   "metadata": {},
   "outputs": [
    {
     "name": "stdout",
     "output_type": "stream",
     "text": [
      "Train set elements:  90\n",
      "Validation set elements:  10\n"
     ]
    }
   ],
   "source": [
    "from rlnoise.agents.actor_critic import AC_agent\n",
    "\n",
    "agent=AC_agent(model, env)\n",
    "agent.train_val_split(split=0.1)\n",
    "agent.validation_options(do_validation=True, val_steps=20, greedy_policy=True)"
   ]
  },
  {
   "attachments": {},
   "cell_type": "markdown",
   "metadata": {},
   "source": [
    "Train Agent"
   ]
  },
  {
   "cell_type": "code",
   "execution_count": 7,
   "metadata": {},
   "outputs": [
    {
     "name": "stdout",
     "output_type": "stream",
     "text": [
      "episode: 10, avg_reward 1.689643\n",
      "episode: 20, avg_reward 1.611652\n",
      "Validation...\n",
      "episode: 20, val_reward 1.632597\n",
      "episode: 30, avg_reward 1.542472\n",
      "episode: 40, avg_reward 1.550542\n",
      "Validation...\n",
      "episode: 40, val_reward 0.994514\n",
      "episode: 50, avg_reward 0.930812\n",
      "episode: 60, avg_reward 1.960222\n",
      "Validation...\n",
      "episode: 60, val_reward 2.003622\n",
      "episode: 70, avg_reward 1.634294\n",
      "episode: 80, avg_reward 1.350151\n",
      "Validation...\n",
      "episode: 80, val_reward 1.560878\n",
      "episode: 90, avg_reward 1.747334\n",
      "episode: 100, avg_reward 1.399675\n",
      "Validation...\n",
      "episode: 100, val_reward 0.774043\n",
      "episode: 110, avg_reward 1.296234\n",
      "episode: 120, avg_reward 0.897160\n",
      "Validation...\n",
      "episode: 120, val_reward 0.000000\n",
      "episode: 130, avg_reward 0.666161\n",
      "episode: 140, avg_reward 1.443696\n",
      "Validation...\n",
      "episode: 140, val_reward 1.618855\n",
      "episode: 150, avg_reward 1.057647\n",
      "episode: 160, avg_reward 1.341259\n",
      "Validation...\n",
      "episode: 160, val_reward 2.387541\n",
      "episode: 170, avg_reward 1.679617\n",
      "episode: 180, avg_reward 1.355866\n",
      "Validation...\n",
      "episode: 180, val_reward 0.347749\n",
      "episode: 190, avg_reward 1.119000\n",
      "episode: 200, avg_reward 1.199027\n",
      "Validation...\n",
      "episode: 200, val_reward 1.236221\n",
      "episode: 210, avg_reward 1.515273\n",
      "episode: 220, avg_reward 1.301364\n",
      "Validation...\n",
      "episode: 220, val_reward 0.762610\n",
      "episode: 230, avg_reward 1.443176\n",
      "episode: 240, avg_reward 1.729456\n",
      "Validation...\n",
      "episode: 240, val_reward 0.974164\n",
      "episode: 250, avg_reward 1.487363\n",
      "episode: 260, avg_reward 1.146612\n",
      "Validation...\n",
      "episode: 260, val_reward 1.567935\n",
      "episode: 270, avg_reward 1.459201\n",
      "episode: 280, avg_reward 1.566272\n",
      "Validation...\n",
      "episode: 280, val_reward 0.596584\n",
      "episode: 290, avg_reward 1.473949\n",
      "episode: 300, avg_reward 1.136606\n",
      "Validation...\n",
      "episode: 300, val_reward 2.500275\n"
     ]
    }
   ],
   "source": [
    "optimizer = keras.optimizers.Adam(learning_rate=0.01)\n",
    "episodes=300\n",
    "\n",
    "train_history, val_history = agent.train(episodes=episodes, optimizer=optimizer)"
   ]
  },
  {
   "attachments": {},
   "cell_type": "markdown",
   "metadata": {},
   "source": [
    "Save model"
   ]
  },
  {
   "cell_type": "code",
   "execution_count": 8,
   "metadata": {},
   "outputs": [
    {
     "name": "stdout",
     "output_type": "stream",
     "text": [
      "WARNING:tensorflow:Compiled the loaded model, but the compiled metrics have yet to be built. `model.compile_metrics` will be empty until you train or evaluate the model.\n",
      "INFO:tensorflow:Assets written to: /home/simonebordoni/QIBO/rl-noisemodel/models/model_1q/assets\n"
     ]
    }
   ],
   "source": [
    "agent.save_model(filename=\"model_1q\")"
   ]
  },
  {
   "attachments": {},
   "cell_type": "markdown",
   "metadata": {},
   "source": [
    "Visualize training history"
   ]
  },
  {
   "cell_type": "code",
   "execution_count": 9,
   "metadata": {},
   "outputs": [
    {
     "data": {
      "image/png": "[encoded data removed]",
      "text/plain": [
       "<Figure size 640x480 with 1 Axes>"
      ]
     },
     "metadata": {},
     "output_type": "display_data"
    },
    {
     "data": {
      "text/plain": [
       "<Figure size 640x480 with 0 Axes>"
      ]
     },
     "metadata": {},
     "output_type": "display_data"
    }
   ],
   "source": [
    "from rlnoise.utils import plot_results\n",
    "plot_results(train_history=train_history, val_history=val_history, n_steps=20)"
   ]
  },
  {
   "cell_type": "code",
   "execution_count": null,
   "metadata": {},
   "outputs": [
    {
     "name": "stdout",
     "output_type": "stream",
     "text": [
      "{'circuit': 60, 'reward': 0.05579700667984001, 'final_state': array([[0.        , 0.08317755, 0.        , 0.        ],\n",
      "       [1.        , 0.7326649 , 1.        , 0.        ],\n",
      "       [1.        , 0.2620227 , 1.        , 0.        ],\n",
      "       [1.        , 0.10362229, 1.        , 0.        ],\n",
      "       [0.        , 0.7618408 , 0.        , 1.        ]], dtype=float32)}\n"
     ]
    }
   ],
   "source": [
    "print(train_history[94])"
   ]
  }
 ],
 "metadata": {
  "kernelspec": {
   "display_name": "qibo",
   "language": "python",
   "name": "python3"
  },
  "language_info": {
   "codemirror_mode": {
    "name": "ipython",
    "version": 3
   },
   "file_extension": ".py",
   "mimetype": "text/x-python",
   "name": "python",
   "nbconvert_exporter": "python",
   "pygments_lexer": "ipython3",
   "version": "3.10.8"
  },
  "orig_nbformat": 4,
  "vscode": {
   "interpreter": {
    "hash": "679ef9750dab49c7c979211137aa3c42351a069332f89d16af02e811d6f8c96d"
   }
  }
 },
 "nbformat": 4,
 "nbformat_minor": 2
}
