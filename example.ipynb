{
 "cells": [
  {
   "cell_type": "code",
   "execution_count": 7,
   "metadata": {},
   "outputs": [],
   "source": [
    "import sys\n",
    "from rlnoise.dataset import Dataset, CircuitRepresentation\n",
    "from rlnoise.policy import CNNFeaturesExtractor\n",
    "import numpy as np\n",
    "from rlnoise.envs.gym_env import QuantumCircuit\n",
    "from stable_baselines3 import PPO, DQN, DDPG\n",
    "from qibo.noise import DepolarizingError, NoiseModel\n",
    "from qibo import gates, models\n"
   ]
  },
  {
   "attachments": {},
   "cell_type": "markdown",
   "metadata": {},
   "source": [
    "Create and save dataset (1st use)"
   ]
  },
  {
   "cell_type": "code",
   "execution_count": 10,
   "metadata": {},
   "outputs": [
    {
     "name": "stdout",
     "output_type": "stream",
     "text": [
      "Creating Dataset of noisy/noiseless random circuit and their rapresentation\n",
      "> Noiseless Circuit:\n",
      " q0: ─RX─RZ─RX─RX─RZ─RX─RZ─RZ─RX─RZ─\n",
      " --> Representation:\n",
      " [[0.   1.   0.   0.   0.  ]\n",
      " [1.   0.   0.   0.   0.  ]\n",
      " [0.   1.   0.5  0.   0.  ]\n",
      " [0.   1.   0.5  0.   0.  ]\n",
      " [1.   0.   0.5  0.   0.  ]\n",
      " [0.   1.   0.75 0.   0.  ]\n",
      " [1.   0.   0.5  0.   0.  ]\n",
      " [1.   0.   1.   0.   0.  ]\n",
      " [0.   1.   1.   0.   0.  ]\n",
      " [1.   0.   0.5  0.   0.  ]]\n",
      " --> Circuit Rebuilt:\n",
      " q0: ─RX─RZ─RX─RX─RZ─RX─RZ─RZ─RX─RZ─\n",
      "~~~~~~~~~~~~~~~~~~~~~~~~~~~~~~~~~~~~~~~~~~~~~~~~~~~~~~~~~~~~~~~~~~~~~~~~~~~\n",
      "> Noisy Circuit:\n",
      " q0: ─RX─RZ─D─RX─RX─RZ─D─RX─RZ─D─RZ─D─RX─RZ─D─\n",
      "[[0.   1.   0.   0.   0.  ]\n",
      " [1.   0.   0.   1.   0.3 ]\n",
      " [0.   1.   0.5  0.   0.  ]\n",
      " [0.   1.   0.5  0.   0.  ]\n",
      " [1.   0.   0.5  1.   0.3 ]\n",
      " [0.   1.   0.75 0.   0.  ]\n",
      " [1.   0.   0.5  1.   0.3 ]\n",
      " [1.   0.   1.   1.   0.3 ]\n",
      " [0.   1.   1.   0.   0.  ]\n",
      " [1.   0.   0.5  1.   0.3 ]]\n",
      " --> Circuit Rebuilt:\n",
      " q0: ─RX─RZ─D─RX─RX─RZ─D─RX─RZ─D─RZ─D─RX─RZ─D─\n",
      "The shape of the representation is:  (10, 5)\n",
      "The dm_label of the circuit is:  <class 'qibo.models.circuit.Circuit'>\n",
      "[-2.16489014e-16+7.07106781e-01j -7.07106781e-01+1.29893408e-16j]\n"
     ]
    }
   ],
   "source": [
    "nqubits = 1\n",
    "depth = 10\n",
    "ncirc = 4\n",
    "noise_model = NoiseModel()\n",
    "lam = 0.3\n",
    "noise_model.add(DepolarizingError(lam), gates.RZ)\n",
    "noise_channel = gates.DepolarizingChannel((0,), lam=lam)\n",
    "primitive_gates = ['RZ', 'RX']\n",
    "channels = ['DepolarizingChannel']\n",
    "\n",
    "rep = CircuitRepresentation(\n",
    "    primitive_gates = primitive_gates,\n",
    "    noise_channels = channels,\n",
    "    shape = '2d'\n",
    ")\n",
    "# create dataset\n",
    "print(\"Creating Dataset of noisy/noiseless random circuit and their rapresentation\")\n",
    "dataset = Dataset(\n",
    "    n_circuits = ncirc,\n",
    "    n_gates = depth,\n",
    "    n_qubits = nqubits,\n",
    "    representation = rep,\n",
    "    clifford = True,\n",
    "    noise_model = noise_model,\n",
    "    mode = 'rep'\n",
    ")\n",
    "#Testing the rapresentation of noisless and noisy circuits\n",
    "\n",
    "circuit_rep = dataset[1] \n",
    "dataset.set_mode('circ')\n",
    "circuit = dataset[1]\n",
    "dataset.set_mode('noisy_circ')\n",
    "noisy_circuit = dataset[1]\n",
    "\n",
    "def test_representation():\n",
    "    print('> Noiseless Circuit:\\n', circuit.draw())\n",
    "    array = rep.circuit_to_array(circuit)\n",
    "    print(' --> Representation:\\n', array)\n",
    "    print(' --> Circuit Rebuilt:\\n', rep.array_to_circuit(array).draw())\n",
    "    print('~~~~~~~~~~~~~~~~~~~~~~~~~~~~~~~~~~~~~~~~~~~~~~~~~~~~~~~~~~~~~~~~~~~~~~~~~~~')\n",
    "    print('> Noisy Circuit:\\n', noisy_circuit.draw())\n",
    "    array = rep.circuit_to_array(noisy_circuit)\n",
    "    print(array)\n",
    "    print(' --> Circuit Rebuilt:\\n', rep.array_to_circuit(array).draw())\n",
    "\n",
    "test_representation()\n",
    "print('The shape of the representation is: ',rep.circuit_to_array(noisy_circuit).shape)\n",
    "noisy_circuit=rep.circuit_to_array(noisy_circuit)\n",
    "print('The dm_label of the circuit is: ',type(rep.array_to_circuit(noisy_circuit)))\n",
    "\n",
    "''' \n",
    "\n",
    "In this representation we have shape (depth, x) where x is thge sum of:\n",
    "\n",
    "num_of_possible_gates -> for each type of gate we have a column where if 1 that gate is present\n",
    "(first column is RZ than RX ...)\n",
    "1 -> this column represent the gate params\n",
    "1 -> this column express if there is (1) or not (0) a noisy gate\n",
    "1 -> this column represent the noisy gate params\n",
    "\n",
    "\n",
    "'''\n",
    "dm=np.asarray(circuit().state())\n",
    "print(dm)"
   ]
  },
  {
   "cell_type": "code",
   "execution_count": 28,
   "metadata": {},
   "outputs": [
    {
     "name": "stdout",
     "output_type": "stream",
     "text": [
      "(1, 1)\n",
      "q=  0\n",
      "a=  [1]\n"
     ]
    }
   ],
   "source": [
    "\n",
    "\n",
    "action=np.array([[1]]) #L'azione ha la dimensione (num_qubits, 1)\n",
    "print(action.shape)\n",
    "for q, a in enumerate(action): #a e` l'azione: se a=1 aggiungo rumore\n",
    "    print('q= ',q)\n",
    "    print('a= ',a)\n"
   ]
  },
  {
   "cell_type": "code",
   "execution_count": null,
   "metadata": {},
   "outputs": [],
   "source": []
  },
  {
   "attachments": {},
   "cell_type": "markdown",
   "metadata": {},
   "source": [
    "Load existing dataset"
   ]
  },
  {
   "cell_type": "code",
   "execution_count": 3,
   "metadata": {},
   "outputs": [
    {
     "name": "stdout",
     "output_type": "stream",
     "text": [
      "Dataset loaded\n",
      "Number of circuits:  100\n"
     ]
    }
   ],
   "source": [
    "circuits_repr = np.load(dataset_folder() + '/dataset_1q.npy')\n",
    "labels = np.load(dataset_folder() + '/labels_1q.npy')\n",
    "\n",
    "print(\"Dataset loaded\")\n",
    "print(\"Number of circuits: \", len(circuits_repr))"
   ]
  },
  {
   "attachments": {},
   "cell_type": "markdown",
   "metadata": {},
   "source": [
    "Visualize circuit representation and observables distributions moments or density matrices"
   ]
  },
  {
   "cell_type": "code",
   "execution_count": 3,
   "metadata": {},
   "outputs": [
    {
     "name": "stdout",
     "output_type": "stream",
     "text": [
      "Circuit representation:\n",
      "[[0.         0.71079226]\n",
      " [1.         0.79643442]\n",
      " [0.         0.86050228]\n",
      " [1.         0.85349198]\n",
      " [0.         0.15389079]]\n",
      "Observables distribution moments or density matrices:\n",
      "[[ 0.37298306+2.77555756e-17j -0.03073506-3.83336736e-01j]\n",
      " [-0.03073506+3.83336736e-01j  0.62701694+0.00000000e+00j]]\n"
     ]
    }
   ],
   "source": [
    "element=0\n",
    "\n",
    "print(\"Circuit representation:\")\n",
    "print(circuits_repr[element])\n",
    "print(\"Observables distribution moments or density matrices:\")\n",
    "print(labels[element])"
   ]
  },
  {
   "attachments": {},
   "cell_type": "markdown",
   "metadata": {},
   "source": [
    "Create RL environment"
   ]
  },
  {
   "cell_type": "code",
   "execution_count": 4,
   "metadata": {},
   "outputs": [],
   "source": [
    "from rlnoise.envs.gym_env import CircuitsGym\n",
    "from rlnoise.utils import truncated_moments_matching\n",
    "\n",
    "env=CircuitsGym(circuits_repr, labels, reward_func=truncated_moments_matching, reward_method='dm', reward_each_step=True)\n",
    "#env.set_reward_func(truncated_moments_matching)"
   ]
  },
  {
   "attachments": {},
   "cell_type": "markdown",
   "metadata": {},
   "source": [
    "Define ANN"
   ]
  },
  {
   "cell_type": "code",
   "execution_count": 5,
   "metadata": {},
   "outputs": [
    {
     "name": "stdout",
     "output_type": "stream",
     "text": [
      "Model: \"model\"\n",
      "__________________________________________________________________________________________________\n",
      " Layer (type)                   Output Shape         Param #     Connected to                     \n",
      "==================================================================================================\n",
      " input_1 (InputLayer)           [(None, 5, 4)]       0           []                               \n",
      "                                                                                                  \n",
      " conv1d (Conv1D)                (None, 5, 8)         40          ['input_1[0][0]']                \n",
      "                                                                                                  \n",
      " conv1d_1 (Conv1D)              (None, 5, 4)         100         ['conv1d[0][0]']                 \n",
      "                                                                                                  \n",
      " flatten (Flatten)              (None, 20)           0           ['conv1d_1[0][0]']               \n",
      "                                                                                                  \n",
      " Actor (Dense)                  (None, 2)            42          ['flatten[0][0]']                \n",
      "                                                                                                  \n",
      " Critic (Dense)                 (None, 1)            21          ['flatten[0][0]']                \n",
      "                                                                                                  \n",
      "==================================================================================================\n",
      "Total params: 203\n",
      "Trainable params: 203\n",
      "Non-trainable params: 0\n",
      "__________________________________________________________________________________________________\n"
     ]
    }
   ],
   "source": [
    "import tensorflow as tf\n",
    "from tensorflow import keras\n",
    "\n",
    "num_inputs = env.observation_space.shape\n",
    "num_actions = env.action_space.n\n",
    "\n",
    "# CNN model\n",
    "inputs = keras.layers.Input(shape=num_inputs)\n",
    "common = keras.layers.Conv1D(8, (1,), activation=\"relu\")(inputs)\n",
    "common = keras.layers.Conv1D(4, (3,), padding='same', activation=\"relu\")(common)\n",
    "common = keras.layers.Flatten()(common)\n",
    "action = keras.layers.Dense(num_actions, activation=\"softmax\", name='Actor')(common)\n",
    "critic = keras.layers.Dense(1, name='Critic')(common)\n",
    "\n",
    "model = keras.Model(inputs=inputs, outputs=[action, critic])\n",
    "model.summary()"
   ]
  },
  {
   "attachments": {},
   "cell_type": "markdown",
   "metadata": {},
   "source": [
    "Define Agent"
   ]
  },
  {
   "cell_type": "code",
   "execution_count": 8,
   "metadata": {},
   "outputs": [
    {
     "name": "stdout",
     "output_type": "stream",
     "text": [
      "Train set elements:  450\n",
      "Validation set elements:  50\n"
     ]
    }
   ],
   "source": [
    "#from rlnoise.agents.actor_critic import AC_agent\n",
    "from rlnoise.agents.actor_critic_V2 import AC_agent\n",
    "\n",
    "agent=AC_agent(model, env)\n",
    "agent.train_val_split(split=0.1)\n",
    "agent.validation_options(do_validation=True, val_steps=100, greedy_policy=True)"
   ]
  },
  {
   "attachments": {},
   "cell_type": "markdown",
   "metadata": {},
   "source": [
    "Train Agent"
   ]
  },
  {
   "cell_type": "code",
   "execution_count": 9,
   "metadata": {},
   "outputs": [
    {
     "name": "stdout",
     "output_type": "stream",
     "text": [
      "episode: 100, avg_reward 0.116611\n",
      "Validation...\n",
      "episode: 100, val_reward 0.040000\n",
      "episode: 200, avg_reward 0.194518\n",
      "Validation...\n",
      "episode: 200, val_reward 0.040000\n",
      "episode: 300, avg_reward 0.183280\n",
      "Validation...\n",
      "episode: 300, val_reward 0.040000\n",
      "episode: 400, avg_reward 0.094558\n",
      "Validation...\n",
      "episode: 400, val_reward 0.040000\n",
      "episode: 500, avg_reward 0.177004\n",
      "Validation...\n",
      "episode: 500, val_reward 0.040000\n",
      "episode: 600, avg_reward 0.000000\n",
      "Validation...\n",
      "episode: 600, val_reward 0.040000\n",
      "episode: 700, avg_reward 0.178232\n",
      "Validation...\n",
      "episode: 700, val_reward 0.040000\n",
      "episode: 800, avg_reward 0.275156\n",
      "Validation...\n",
      "episode: 800, val_reward 0.040000\n",
      "episode: 900, avg_reward 0.000000\n",
      "Validation...\n",
      "episode: 900, val_reward 0.040000\n",
      "episode: 1000, avg_reward 0.085044\n",
      "Validation...\n",
      "episode: 1000, val_reward 0.040000\n"
     ]
    }
   ],
   "source": [
    "optimizer = keras.optimizers.Adam(learning_rate=0.001)\n",
    "episodes=1000\n",
    "\n",
    "train_history, val_history = agent.train(episodes=episodes, optimizer=optimizer, verbose_episode=100)"
   ]
  },
  {
   "attachments": {},
   "cell_type": "markdown",
   "metadata": {},
   "source": [
    "Save model"
   ]
  },
  {
   "cell_type": "code",
   "execution_count": 8,
   "metadata": {},
   "outputs": [
    {
     "name": "stdout",
     "output_type": "stream",
     "text": [
      "WARNING:tensorflow:Compiled the loaded model, but the compiled metrics have yet to be built. `model.compile_metrics` will be empty until you train or evaluate the model.\n",
      "INFO:tensorflow:Assets written to: /home/simonebordoni/QIBO/rl-noisemodel/models/model_1q/assets\n"
     ]
    }
   ],
   "source": [
    "agent.save_model(filename=\"model_1q\")"
   ]
  },
  {
   "attachments": {},
   "cell_type": "markdown",
   "metadata": {},
   "source": [
    "Visualize training history"
   ]
  },
  {
   "cell_type": "code",
   "execution_count": 10,
   "metadata": {},
   "outputs": [
    {
     "data": {
      "image/png": "[encoded data removed]",
      "text/plain": [
       "<Figure size 640x480 with 1 Axes>"
      ]
     },
     "metadata": {},
     "output_type": "display_data"
    },
    {
     "data": {
      "text/plain": [
       "<Figure size 640x480 with 0 Axes>"
      ]
     },
     "metadata": {},
     "output_type": "display_data"
    }
   ],
   "source": [
    "from rlnoise.utils import plot_results\n",
    "plot_results(train_history=train_history, val_history=val_history, n_steps=20)"
   ]
  },
  {
   "cell_type": "code",
   "execution_count": null,
   "metadata": {},
   "outputs": [
    {
     "name": "stdout",
     "output_type": "stream",
     "text": [
      "{'circuit': 60, 'reward': 0.05579700667984001, 'final_state': array([[0.        , 0.08317755, 0.        , 0.        ],\n",
      "       [1.        , 0.7326649 , 1.        , 0.        ],\n",
      "       [1.        , 0.2620227 , 1.        , 0.        ],\n",
      "       [1.        , 0.10362229, 1.        , 0.        ],\n",
      "       [0.        , 0.7618408 , 0.        , 1.        ]], dtype=float32)}\n"
     ]
    }
   ],
   "source": [
    "print(train_history[94])"
   ]
  }
 ],
 "metadata": {
  "kernelspec": {
   "display_name": "qibo",
   "language": "python",
   "name": "python3"
  },
  "language_info": {
   "codemirror_mode": {
    "name": "ipython",
    "version": 3
   },
   "file_extension": ".py",
   "mimetype": "text/x-python",
   "name": "python",
   "nbconvert_exporter": "python",
   "pygments_lexer": "ipython3",
   "version": "3.10.9"
  },
  "orig_nbformat": 4,
  "vscode": {
   "interpreter": {
    "hash": "679ef9750dab49c7c979211137aa3c42351a069332f89d16af02e811d6f8c96d"
   }
  }
 },
 "nbformat": 4,
 "nbformat_minor": 2
}
