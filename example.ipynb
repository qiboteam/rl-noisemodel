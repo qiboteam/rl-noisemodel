{
 "cells": [
  {
   "cell_type": "code",
   "execution_count": 1,
   "metadata": {},
   "outputs": [],
   "source": [
    "from rlnoise.dataset import Dataset, dataset_folder, figures_folder\n",
    "import numpy as np\n",
    "import matplotlib.pyplot as plt"
   ]
  },
  {
   "attachments": {},
   "cell_type": "markdown",
   "metadata": {},
   "source": [
    "Create and save dataset (1st use)"
   ]
  },
  {
   "cell_type": "code",
   "execution_count": 5,
   "metadata": {},
   "outputs": [
    {
     "name": "stderr",
     "output_type": "stream",
     "text": [
      "[Qibo 0.1.10.dev0|INFO|2023-02-08 16:07:21]: Using tensorflow backend on /device:CPU:0\n",
      "2023-02-08 16:07:21.064911: I tensorflow/stream_executor/cuda/cuda_gpu_executor.cc:936] successful NUMA node read from SysFS had negative value (-1), but there must be at least one NUMA node, so returning NUMA node zero\n"
     ]
    },
    {
     "name": "stdout",
     "output_type": "stream",
     "text": [
      "Creating random cicuits\n",
      "Generating cicuits representation\n",
      "Adding noise\n",
      "Measuring observables\n"
     ]
    },
    {
     "name": "stderr",
     "output_type": "stream",
     "text": [
      "2023-02-08 16:07:21.065045: W tensorflow/stream_executor/platform/default/dso_loader.cc:64] Could not load dynamic library 'libcudart.so.11.0'; dlerror: libcudart.so.11.0: cannot open shared object file: No such file or directory\n",
      "2023-02-08 16:07:21.065068: W tensorflow/stream_executor/platform/default/dso_loader.cc:64] Could not load dynamic library 'libcublas.so.11'; dlerror: libcublas.so.11: cannot open shared object file: No such file or directory\n",
      "2023-02-08 16:07:21.065086: W tensorflow/stream_executor/platform/default/dso_loader.cc:64] Could not load dynamic library 'libcublasLt.so.11'; dlerror: libcublasLt.so.11: cannot open shared object file: No such file or directory\n",
      "2023-02-08 16:07:21.065105: W tensorflow/stream_executor/platform/default/dso_loader.cc:64] Could not load dynamic library 'libcufft.so.10'; dlerror: libcufft.so.10: cannot open shared object file: No such file or directory\n",
      "2023-02-08 16:07:21.065122: W tensorflow/stream_executor/platform/default/dso_loader.cc:64] Could not load dynamic library 'libcurand.so.10'; dlerror: libcurand.so.10: cannot open shared object file: No such file or directory\n",
      "2023-02-08 16:07:21.065141: W tensorflow/stream_executor/platform/default/dso_loader.cc:64] Could not load dynamic library 'libcusolver.so.11'; dlerror: libcusolver.so.11: cannot open shared object file: No such file or directory\n",
      "2023-02-08 16:07:21.065159: W tensorflow/stream_executor/platform/default/dso_loader.cc:64] Could not load dynamic library 'libcusparse.so.11'; dlerror: libcusparse.so.11: cannot open shared object file: No such file or directory\n",
      "2023-02-08 16:07:21.065177: W tensorflow/stream_executor/platform/default/dso_loader.cc:64] Could not load dynamic library 'libcudnn.so.8'; dlerror: libcudnn.so.8: cannot open shared object file: No such file or directory\n",
      "2023-02-08 16:07:21.065181: W tensorflow/core/common_runtime/gpu/gpu_device.cc:1850] Cannot dlopen some GPU libraries. Please make sure the missing libraries mentioned above are installed properly if you would like to use GPU. Follow the guide at https://www.tensorflow.org/install/gpu for how to download and setup the required libraries for your platform.\n",
      "Skipping registering GPU devices...\n",
      "2023-02-08 16:07:21.065415: I tensorflow/core/platform/cpu_feature_guard.cc:151] This TensorFlow binary is optimized with oneAPI Deep Neural Network Library (oneDNN) to use the following CPU instructions in performance-critical operations:  AVX2 AVX512F FMA\n",
      "To enable them in other operations, rebuild TensorFlow with the appropriate compiler flags.\n"
     ]
    },
    {
     "name": "stdout",
     "output_type": "stream",
     "text": [
      "Circuits and labels saved in:  /home/simonebordoni/QIBO/rl-noisemodel/dataset\n"
     ]
    }
   ],
   "source": [
    "nqubits = 1\n",
    "ngates = 5\n",
    "ncirc = 100\n",
    "\n",
    "# create dataset\n",
    "print(\"Creating random cicuits\")\n",
    "dataset = Dataset(\n",
    "    n_circuits=ncirc,\n",
    "    n_gates=ngates,\n",
    "    n_qubits=nqubits,\n",
    ")\n",
    "print(\"Generating cicuits representation\")\n",
    "circuits_repr=dataset.generate_dataset_representation()\n",
    "print(\"Adding noise\")\n",
    "dataset.add_noise(noise_params=0.07)\n",
    "print(\"Measuring observables\")\n",
    "labels=dataset.generate_labels()\n",
    "\n",
    "np.save(dataset_folder() + '/dataset_1q.npy', circuits_repr)\n",
    "np.save(dataset_folder() + '/labels_1q.npy', labels)\n",
    "print(\"Circuits and labels saved in: \", dataset_folder())"
   ]
  },
  {
   "attachments": {},
   "cell_type": "markdown",
   "metadata": {},
   "source": [
    "Load existing dataset"
   ]
  },
  {
   "cell_type": "code",
   "execution_count": 2,
   "metadata": {},
   "outputs": [
    {
     "name": "stdout",
     "output_type": "stream",
     "text": [
      "Dataset loaded\n",
      "Number of circuits:  100\n"
     ]
    }
   ],
   "source": [
    "circuits_repr = np.load(dataset_folder() + '/dataset_1q.npy')\n",
    "labels = np.load(dataset_folder() + '/labels_1q.npy')\n",
    "\n",
    "print(\"Dataset loaded\")\n",
    "print(\"Number of circuits: \", len(circuits_repr))"
   ]
  },
  {
   "attachments": {},
   "cell_type": "markdown",
   "metadata": {},
   "source": [
    "Visualize circuit representation and observables distributions moments"
   ]
  },
  {
   "cell_type": "code",
   "execution_count": 7,
   "metadata": {},
   "outputs": [
    {
     "name": "stdout",
     "output_type": "stream",
     "text": [
      "Circuit representation:\n",
      "[[0.         0.54156335]\n",
      " [0.         0.37195697]\n",
      " [0.         0.21414577]\n",
      " [1.         0.80536387]\n",
      " [0.         0.53812583]]\n",
      "Observables distribution moments:\n",
      "[[0.328      0.006464  ]\n",
      " [0.2062     0.00944556]\n",
      " [0.199      0.009235  ]]\n"
     ]
    }
   ],
   "source": [
    "element=0\n",
    "\n",
    "print(\"Circuit representation:\")\n",
    "print(circuits_repr[element])\n",
    "print(\"Observables distribution moments:\")\n",
    "print(labels[element])"
   ]
  },
  {
   "attachments": {},
   "cell_type": "markdown",
   "metadata": {},
   "source": [
    "Create RL environment"
   ]
  },
  {
   "cell_type": "code",
   "execution_count": 3,
   "metadata": {},
   "outputs": [],
   "source": [
    "from rlnoise.envs.gym_env import CircuitsGym\n",
    "\n",
    "env=CircuitsGym(circuits_repr, labels)"
   ]
  },
  {
   "attachments": {},
   "cell_type": "markdown",
   "metadata": {},
   "source": [
    "Define ANN"
   ]
  },
  {
   "cell_type": "code",
   "execution_count": 4,
   "metadata": {},
   "outputs": [
    {
     "name": "stderr",
     "output_type": "stream",
     "text": [
      "2023-02-08 16:37:20.151123: W tensorflow/stream_executor/platform/default/dso_loader.cc:64] Could not load dynamic library 'libcudart.so.11.0'; dlerror: libcudart.so.11.0: cannot open shared object file: No such file or directory; LD_LIBRARY_PATH: /home/simonebordoni/anaconda3/envs/qibo/lib/python3.10/site-packages/cv2/../../lib64:\n"
     ]
    },
    {
     "name": "stdout",
     "output_type": "stream",
     "text": [
      "Model: \"model\"\n",
      "__________________________________________________________________________________________________\n",
      " Layer (type)                   Output Shape         Param #     Connected to                     \n",
      "==================================================================================================\n",
      " input_1 (InputLayer)           [(None, 5, 4)]       0           []                               \n",
      "                                                                                                  \n",
      " conv1d (Conv1D)                (None, 5, 8)         40          ['input_1[0][0]']                \n",
      "                                                                                                  \n",
      " conv1d_1 (Conv1D)              (None, 5, 4)         100         ['conv1d[0][0]']                 \n",
      "                                                                                                  \n",
      " flatten (Flatten)              (None, 20)           0           ['conv1d_1[0][0]']               \n",
      "                                                                                                  \n",
      " Actor (Dense)                  (None, 2)            42          ['flatten[0][0]']                \n",
      "                                                                                                  \n",
      " Critic (Dense)                 (None, 1)            21          ['flatten[0][0]']                \n",
      "                                                                                                  \n",
      "==================================================================================================\n",
      "Total params: 203\n",
      "Trainable params: 203\n",
      "Non-trainable params: 0\n",
      "__________________________________________________________________________________________________\n"
     ]
    },
    {
     "name": "stderr",
     "output_type": "stream",
     "text": [
      "2023-02-08 16:37:21.056912: W tensorflow/stream_executor/platform/default/dso_loader.cc:64] Could not load dynamic library 'libcudart.so.11.0'; dlerror: libcudart.so.11.0: cannot open shared object file: No such file or directory; LD_LIBRARY_PATH: /home/simonebordoni/anaconda3/envs/qibo/lib/python3.10/site-packages/cv2/../../lib64:\n",
      "2023-02-08 16:37:21.056950: W tensorflow/stream_executor/platform/default/dso_loader.cc:64] Could not load dynamic library 'libcublas.so.11'; dlerror: libcublas.so.11: cannot open shared object file: No such file or directory; LD_LIBRARY_PATH: /home/simonebordoni/anaconda3/envs/qibo/lib/python3.10/site-packages/cv2/../../lib64:\n",
      "2023-02-08 16:37:21.056972: W tensorflow/stream_executor/platform/default/dso_loader.cc:64] Could not load dynamic library 'libcublasLt.so.11'; dlerror: libcublasLt.so.11: cannot open shared object file: No such file or directory; LD_LIBRARY_PATH: /home/simonebordoni/anaconda3/envs/qibo/lib/python3.10/site-packages/cv2/../../lib64:\n",
      "2023-02-08 16:37:21.056992: W tensorflow/stream_executor/platform/default/dso_loader.cc:64] Could not load dynamic library 'libcufft.so.10'; dlerror: libcufft.so.10: cannot open shared object file: No such file or directory; LD_LIBRARY_PATH: /home/simonebordoni/anaconda3/envs/qibo/lib/python3.10/site-packages/cv2/../../lib64:\n",
      "2023-02-08 16:37:21.057013: W tensorflow/stream_executor/platform/default/dso_loader.cc:64] Could not load dynamic library 'libcurand.so.10'; dlerror: libcurand.so.10: cannot open shared object file: No such file or directory; LD_LIBRARY_PATH: /home/simonebordoni/anaconda3/envs/qibo/lib/python3.10/site-packages/cv2/../../lib64:\n",
      "2023-02-08 16:37:21.057033: W tensorflow/stream_executor/platform/default/dso_loader.cc:64] Could not load dynamic library 'libcusolver.so.11'; dlerror: libcusolver.so.11: cannot open shared object file: No such file or directory; LD_LIBRARY_PATH: /home/simonebordoni/anaconda3/envs/qibo/lib/python3.10/site-packages/cv2/../../lib64:\n",
      "2023-02-08 16:37:21.057052: W tensorflow/stream_executor/platform/default/dso_loader.cc:64] Could not load dynamic library 'libcusparse.so.11'; dlerror: libcusparse.so.11: cannot open shared object file: No such file or directory; LD_LIBRARY_PATH: /home/simonebordoni/anaconda3/envs/qibo/lib/python3.10/site-packages/cv2/../../lib64:\n",
      "2023-02-08 16:37:21.057072: W tensorflow/stream_executor/platform/default/dso_loader.cc:64] Could not load dynamic library 'libcudnn.so.8'; dlerror: libcudnn.so.8: cannot open shared object file: No such file or directory; LD_LIBRARY_PATH: /home/simonebordoni/anaconda3/envs/qibo/lib/python3.10/site-packages/cv2/../../lib64:\n",
      "2023-02-08 16:37:21.057076: W tensorflow/core/common_runtime/gpu/gpu_device.cc:1850] Cannot dlopen some GPU libraries. Please make sure the missing libraries mentioned above are installed properly if you would like to use GPU. Follow the guide at https://www.tensorflow.org/install/gpu for how to download and setup the required libraries for your platform.\n",
      "Skipping registering GPU devices...\n"
     ]
    }
   ],
   "source": [
    "import tensorflow as tf\n",
    "from tensorflow import keras\n",
    "\n",
    "num_inputs = env.observation_space.shape\n",
    "num_actions = env.action_space.n\n",
    "\n",
    "# CNN model\n",
    "inputs = keras.layers.Input(shape=num_inputs)\n",
    "common = keras.layers.Conv1D(8, (1,), activation=\"relu\")(inputs)\n",
    "common = keras.layers.Conv1D(4, (3,), padding='same', activation=\"relu\")(common)\n",
    "common = keras.layers.Flatten()(common)\n",
    "action = keras.layers.Dense(num_actions, activation=\"softmax\", name='Actor')(common)\n",
    "critic = keras.layers.Dense(1, name='Critic')(common)\n",
    "\n",
    "model = keras.Model(inputs=inputs, outputs=[action, critic])\n",
    "model.summary()"
   ]
  },
  {
   "attachments": {},
   "cell_type": "markdown",
   "metadata": {},
   "source": [
    "Define Agent"
   ]
  },
  {
   "cell_type": "code",
   "execution_count": 5,
   "metadata": {},
   "outputs": [],
   "source": [
    "from rlnoise.agents.actor_critic import AC_agent\n",
    "\n",
    "agent=AC_agent(model, env)"
   ]
  },
  {
   "attachments": {},
   "cell_type": "markdown",
   "metadata": {},
   "source": [
    "Train Agent"
   ]
  },
  {
   "cell_type": "code",
   "execution_count": 6,
   "metadata": {},
   "outputs": [
    {
     "name": "stderr",
     "output_type": "stream",
     "text": [
      "[Qibo 0.1.10.dev0|INFO|2023-02-08 16:37:40]: Using tensorflow backend on /device:CPU:0\n"
     ]
    },
    {
     "name": "stdout",
     "output_type": "stream",
     "text": [
      "episode: 10, reward 2.460875\n"
     ]
    },
    {
     "name": "stderr",
     "output_type": "stream",
     "text": [
      "/home/simonebordoni/QIBO/rl-noisemodel/src/rlnoise/utils.py:15: RuntimeWarning: divide by zero encountered in double_scalars\n",
      "  return 0.5*((m1-m2)**2+(v1+v2))*(1/v1+1/v2)-2\n"
     ]
    },
    {
     "name": "stdout",
     "output_type": "stream",
     "text": [
      "episode: 20, reward 1.921257\n",
      "episode: 30, reward 1.893790\n",
      "episode: 40, reward 0.985231\n",
      "episode: 50, reward 2.876722\n",
      "episode: 60, reward 2.677763\n",
      "episode: 70, reward 2.463899\n",
      "episode: 80, reward 1.846459\n",
      "episode: 90, reward 1.969079\n",
      "episode: 100, reward 1.961109\n",
      "WARNING:tensorflow:Compiled the loaded model, but the compiled metrics have yet to be built. `model.compile_metrics` will be empty until you train or evaluate the model.\n",
      "INFO:tensorflow:Assets written to: /home/simonebordoni/QIBO/rl-noisemodel/models/model_1q/assets\n"
     ]
    },
    {
     "name": "stderr",
     "output_type": "stream",
     "text": [
      "2023-02-08 16:41:29.689691: W tensorflow/python/util/util.cc:368] Sets are not currently considered sequences, but this may change in the future, so consider avoiding using them.\n"
     ]
    }
   ],
   "source": [
    "optimizer = keras.optimizers.Adam(learning_rate=0.01)\n",
    "episodes=100\n",
    "\n",
    "reward_history, final_observation_history = agent.train(episodes=episodes, optimizer=optimizer)"
   ]
  }
 ],
 "metadata": {
  "kernelspec": {
   "display_name": "qibo",
   "language": "python",
   "name": "python3"
  },
  "language_info": {
   "codemirror_mode": {
    "name": "ipython",
    "version": 3
   },
   "file_extension": ".py",
   "mimetype": "text/x-python",
   "name": "python",
   "nbconvert_exporter": "python",
   "pygments_lexer": "ipython3",
   "version": "3.10.8"
  },
  "orig_nbformat": 4,
  "vscode": {
   "interpreter": {
    "hash": "679ef9750dab49c7c979211137aa3c42351a069332f89d16af02e811d6f8c96d"
   }
  }
 },
 "nbformat": 4,
 "nbformat_minor": 2
}
