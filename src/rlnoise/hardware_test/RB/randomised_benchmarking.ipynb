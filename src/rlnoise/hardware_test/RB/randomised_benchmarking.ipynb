{
 "cells": [
  {
   "cell_type": "markdown",
   "metadata": {},
   "source": [
    "# Randomised Benchmarking"
   ]
  },
  {
   "cell_type": "markdown",
   "metadata": {},
   "source": [
    "We first generate and queue the circuits we need to execute:"
   ]
  },
  {
   "cell_type": "code",
   "execution_count": null,
   "metadata": {},
   "outputs": [],
   "source": []
  },
  {
   "cell_type": "code",
   "execution_count": 1,
   "metadata": {},
   "outputs": [],
   "source": [
    "import lmfit as lm\n",
    "import matplotlib.pyplot as plt\n",
    "import numpy as np\n",
    "from qiboconnection.api import API\n",
    "from qiboconnection.connection import ConnectionConfiguration\n",
    "from qibo import gates\n",
    "from qibo.models import Circuit\n",
    "\n",
    "from clifford_circuits import clifford_circuits, CliffordGate\n",
    "\n",
    "api = API(ConnectionConfiguration(username = \"alejandro.sopena\",api_key = \"23287d7c-cd0c-4dfd-90d3-9fb506c11dee\"))\n",
    "api.select_device_id(9)"
   ]
  },
  {
   "cell_type": "code",
   "execution_count": 37,
   "metadata": {},
   "outputs": [],
   "source": [
    "# Define constants\n",
    "QUBIT = 0\n",
    "CLIFFORD_GATES = np.arange(1, 200, 20)\n",
    "NUM_SEEDS = 20\n",
    "#NUM_SEEDS = 50\n",
    "INVERSE = False\n",
    "\n",
    "\n",
    "# Run Randomized Benchmarking\n",
    "for num_cliffords in CLIFFORD_GATES:\n",
    "    circuits = []\n",
    "    # We generate the circuits\n",
    "    circuits.extend(\n",
    "        clifford_circuits(qubit_idx=0, num_cliffords=num_cliffords, num_circuits=NUM_SEEDS, inverse=INVERSE)\n",
    "    )\n",
    "    np.save(f\"D{num_cliffords}_len{NUM_SEEDS}_qubit{QUBIT}.npy\", circuits)\n",
    "    \n",
    "# We split the circuits to be able to execute them\n",
    "\n",
    "circuits = []\n",
    "for num_cliffords in CLIFFORD_GATES:\n",
    "    circs = np.load(f\"D{num_cliffords}_len{NUM_SEEDS}_qubit{QUBIT}.npy\", allow_pickle=True)\n",
    "    circuits.extend(circs)\n",
    "\n",
    "for circuit in circuits:\n",
    "    circuit.add(gates.M(0))\n",
    "\n",
    "def transpiler(circuit,qubit_map):\n",
    "    c = Circuit(5)\n",
    "    c.add(circuit.on_qubits(*qubit_map))\n",
    "    return c\n",
    "\n",
    "circuits = [transpiler(circuit,[QUBIT]) for circuit in circuits]\n",
    "\n",
    "circuits_0 = circuits[:100]\n",
    "circuits_1 = circuits[100:]"
   ]
  },
  {
   "cell_type": "code",
   "execution_count": 38,
   "metadata": {},
   "outputs": [
    {
     "data": {
      "text/plain": [
       "(100, 100)"
      ]
     },
     "execution_count": 38,
     "metadata": {},
     "output_type": "execute_result"
    }
   ],
   "source": [
    "len(circuits_0), len(circuits_1)"
   ]
  },
  {
   "cell_type": "code",
   "execution_count": 39,
   "metadata": {},
   "outputs": [
    {
     "name": "stdout",
     "output_type": "stream",
     "text": [
      "q0: ─RX─X─Y─RX─X─Y─M─\n",
      "q1: ─────────────────\n",
      "q2: ─────────────────\n",
      "q3: ─────────────────\n",
      "q4: ─────────────────\n"
     ]
    }
   ],
   "source": [
    "print(circuits_0[0].draw())"
   ]
  },
  {
   "cell_type": "code",
   "execution_count": 40,
   "metadata": {},
   "outputs": [
    {
     "name": "stdout",
     "output_type": "stream",
     "text": [
      "The ids of the executed results are: (10074, 10075)\n"
     ]
    }
   ],
   "source": [
    "# # We queue all the jobs\n",
    "result_id_0 = api.execute(circuit=circuits_0, nshots=1000)[0]\n",
    "result_id_1 = api.execute(circuit=circuits_1, nshots=1000)[0]\n",
    "\n",
    "print(f\"The ids of the executed results are: ({result_id_0}, {result_id_1})\")"
   ]
  },
  {
   "cell_type": "markdown",
   "metadata": {},
   "source": [
    "Once the jobs have been executed, we can use the cells below to get the probabilities:"
   ]
  },
  {
   "cell_type": "code",
   "execution_count": 46,
   "metadata": {},
   "outputs": [
    {
     "name": "stderr",
     "output_type": "stream",
     "text": [
      "Your job with id 10074 is completed.\n",
      "Your job with id 10075 is completed.\n"
     ]
    }
   ],
   "source": [
    "results_0 = api.get_result(result_id_0)\n",
    "results_1 = api.get_result(result_id_1)"
   ]
  },
  {
   "cell_type": "code",
   "execution_count": 47,
   "metadata": {},
   "outputs": [],
   "source": [
    "results = results_0 + results_1\n",
    "results = np.reshape(results, (-1, NUM_SEEDS))  # Reshape results\n",
    "\n",
    "p0 = []\n",
    "p0_std = []\n",
    "p1 = []\n",
    "p1_std = []\n",
    "\n",
    "for rb_iteration in results:\n",
    "    # For each iteration of the RB, we calculate the mean of the probabilities of all the seeds\n",
    "    temp_p0 = []\n",
    "    temp_p1 = []\n",
    "\n",
    "    for result in rb_iteration:\n",
    "        probs = result[\"probabilities\"]\n",
    "        temp_p0.append(probs[\"0\"])\n",
    "        temp_p1.append(probs[\"1\"])\n",
    "\n",
    "    p0.append(np.mean(temp_p0))\n",
    "    p0_std.append(np.std(temp_p0))\n",
    "    p1.append(np.mean(temp_p1))\n",
    "    p1_std.append(np.std(temp_p1))"
   ]
  },
  {
   "cell_type": "markdown",
   "metadata": {},
   "source": [
    "And now we can fit the results to get the 1Q-gate fidelity:"
   ]
  },
  {
   "cell_type": "code",
   "execution_count": 48,
   "metadata": {},
   "outputs": [],
   "source": [
    "# Define fitting function\n",
    "def fit(results):\n",
    "    \"\"\"Fit the experiment results.\"\"\"\n",
    "\n",
    "    NG = 1.875\n",
    "\n",
    "    def fit_exponential(x, ln_p, A, B):\n",
    "        return A * np.exp(-ln_p) ** (x) + B\n",
    "\n",
    "    fit_mod_i = lm.Model(fit_exponential)\n",
    "    fit_mod_i.set_param_hint(\"A\", value=(results.min()) - (results.max()), vary=True)  # might need .flatten\n",
    "    fit_mod_i.set_param_hint(\"B\", value=results.max(), vary=True)  # Values were set with the initial_fit_params_I\n",
    "    fit_mod_i.set_param_hint(\"ln_p\", value=0.1, vary=True)\n",
    "\n",
    "    pars_i = fit_mod_i.make_params()\n",
    "\n",
    "    result_i = fit_mod_i.fit(data=results.flatten(), x=CLIFFORD_GATES, params=pars_i)\n",
    "\n",
    "    ln_p_i = result_i.params[\"ln_p\"].value\n",
    "    A_I = result_i.params[\"A\"].value\n",
    "    B_I = result_i.params[\"B\"].value\n",
    "    # I_fit = fit_exponential(len(rb_i_x), ln_p_I, A_I, B_I)\n",
    "\n",
    "    xi = np.linspace(CLIFFORD_GATES[0], CLIFFORD_GATES[-1], 1000).tolist()  # To smooth the fit\n",
    "    i_fit = [fit_exponential(val, ln_p_i, A_I, B_I) for val in xi]\n",
    "\n",
    "    p_i = np.exp(-ln_p_i)\n",
    "    avg_clifford_fidelity = (1 + p_i) / 2\n",
    "    avg_gate_fidelity = avg_clifford_fidelity ** (1 / NG)\n",
    "\n",
    "    return i_fit, avg_gate_fidelity, avg_clifford_fidelity, p_i"
   ]
  },
  {
   "cell_type": "code",
   "execution_count": 49,
   "metadata": {},
   "outputs": [
    {
     "data": {
      "image/png": "[encoded data removed]",
      "text/plain": [
       "<Figure size 640x480 with 1 Axes>"
      ]
     },
     "metadata": {},
     "output_type": "display_data"
    }
   ],
   "source": [
    "# Fit and plot\n",
    "I_fit, f_cliff, f_gate, p_i = fit(np.array(p0))\n",
    "\n",
    "plt.errorbar(CLIFFORD_GATES, p0, yerr=p0_std, capsize=10, fmt=\"o\", color=\"blue\", label=\"Error bars\")\n",
    "plt.plot(CLIFFORD_GATES, p0, \"o--\", label=\"Probabilities\")\n",
    "plt.plot(np.linspace(min(CLIFFORD_GATES), max(CLIFFORD_GATES), 1000), I_fit, \"r\", label=f\"Fidelity: {f_gate:.5f}\")\n",
    "plt.xlabel(\"Number of Clifford gates\")\n",
    "plt.ylabel(\"P0\")\n",
    "plt.legend()\n",
    "plt.show()"
   ]
  },
  {
   "cell_type": "code",
   "execution_count": 50,
   "metadata": {},
   "outputs": [
    {
     "name": "stdout",
     "output_type": "stream",
     "text": [
      "0.9976409960638783 0.9955814330254469 0.9911628660508938\n"
     ]
    }
   ],
   "source": [
    "print(f_cliff, f_gate, p_i)"
   ]
  },
  {
   "cell_type": "code",
   "execution_count": 36,
   "metadata": {},
   "outputs": [],
   "source": [
    "data = np.array([[f_cliff, f_gate, p_i], CLIFFORD_GATES, p0, p0_std, p1, p1_std, I_fit], object)\n",
    "np.save(f\"RB_decay_qubit{QUBIT}.npy\", data)"
   ]
  },
  {
   "cell_type": "code",
   "execution_count": 16,
   "metadata": {},
   "outputs": [
    {
     "data": {
      "text/plain": [
       "[0.968961341640257, 0.9833243044594712, 0.9379226832805141]"
      ]
     },
     "execution_count": 16,
     "metadata": {},
     "output_type": "execute_result"
    }
   ],
   "source": [
    "np.load(f\"RB_decay_qubit2.npy\", allow_pickle=True)[0]"
   ]
  },
  {
   "cell_type": "code",
   "execution_count": null,
   "metadata": {},
   "outputs": [],
   "source": []
  }
 ],
 "metadata": {
  "kernelspec": {
   "display_name": "Python 3",
   "language": "python",
   "name": "python3"
  },
  "language_info": {
   "codemirror_mode": {
    "name": "ipython",
    "version": 3
   },
   "file_extension": ".py",
   "mimetype": "text/x-python",
   "name": "python",
   "nbconvert_exporter": "python",
   "pygments_lexer": "ipython3",
   "version": "3.11.8"
  }
 },
 "nbformat": 4,
 "nbformat_minor": 2
}
